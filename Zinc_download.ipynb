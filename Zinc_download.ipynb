{
  "nbformat": 4,
  "nbformat_minor": 0,
  "metadata": {
    "colab": {
      "provenance": [],
      "authorship_tag": "ABX9TyMKiOj9bJoDPvGLeA0OK7e5",
      "include_colab_link": true
    },
    "kernelspec": {
      "name": "python3",
      "display_name": "Python 3"
    },
    "language_info": {
      "name": "python"
    },
    "gpuClass": "standard"
  },
  "cells": [
    {
      "cell_type": "markdown",
      "metadata": {
        "id": "view-in-github",
        "colab_type": "text"
      },
      "source": [
        "<a href=\"https://colab.research.google.com/github/Luluink/ZINC/blob/main/Zinc_download.ipynb\" target=\"_parent\"><img src=\"https://colab.research.google.com/assets/colab-badge.svg\" alt=\"Open In Colab\"/></a>"
      ]
    },
    {
      "cell_type": "markdown",
      "source": [
        "###Mount Google Drive in colab"
      ],
      "metadata": {
        "id": "nOqIu930qxDI"
      }
    },
    {
      "cell_type": "code",
      "execution_count": null,
      "metadata": {
        "id": "RWSJpsyKqHjH"
      },
      "outputs": [],
      "source": [
        "from google.colab import drive\n",
        "drive.mount('/content/drive')"
      ]
    },
    {
      "cell_type": "markdown",
      "source": [
        "###Change to your favourite directory"
      ],
      "metadata": {
        "id": "7Bf-9TUErph5"
      }
    },
    {
      "cell_type": "code",
      "source": [
        "import os\n",
        "os.chdir('/content/drive/MyDrive/Colab Notebooks/')"
      ],
      "metadata": {
        "id": "TGvV9sH_UqCO"
      },
      "execution_count": null,
      "outputs": []
    },
    {
      "cell_type": "markdown",
      "source": [
        "###Prepare for downloading"
      ],
      "metadata": {
        "id": "L9FAm5D-sVCx"
      }
    },
    {
      "cell_type": "code",
      "source": [
        "!git clone https://github.com/Luluink/ZINC.git\n",
        "!cp /content/drive/MyDrive/'Colab Notebooks'/ZINC/1-ZINC-downloader-3D-sdf.gz.wget\n",
        "!cat 1-ZINC-downloader-3D-sdf.gz.wget > download.sh"
      ],
      "metadata": {
        "id": "L_nQ7wsPV5EZ"
      },
      "execution_count": null,
      "outputs": []
    },
    {
      "cell_type": "markdown",
      "source": [
        "###Downloading"
      ],
      "metadata": {
        "id": "f1HysGCsx4GL"
      }
    },
    {
      "cell_type": "code",
      "source": [
        "!sh download.sh"
      ],
      "metadata": {
        "id": "oK_ZU-imM3yv"
      },
      "execution_count": null,
      "outputs": []
    },
    {
      "cell_type": "markdown",
      "source": [
        "###Write a bash for processing "
      ],
      "metadata": {
        "id": "qMaMcLE_y3mw"
      }
    },
    {
      "cell_type": "code",
      "source": [
        "#@title Write a bash for processing\n",
        "com_file = open('1.sh','w')\n",
        "com_file.write('''\n",
        "#!/bin/bash\n",
        "\n",
        "# 进入每个子文件夹\n",
        "for dir in */; do\n",
        "  cd \"$dir\"\n",
        "  # 进入内部文件夹\n",
        "  for inner_dir in */; do\n",
        "    cd \"$inner_dir\"\n",
        "    # 解压所有.gz文件\n",
        "    for file in *.gz; do\n",
        "      gunzip \"$file\"\n",
        "    done\n",
        "    # 复制所有解压后的文件到上层文件夹\n",
        "    mv *.sdf ../../\n",
        "    cd ../\n",
        "  done\n",
        "  cd ../\n",
        "done\n",
        "\n",
        "# 合并所有文件\n",
        "cat *.sdf > all_zinc.sdf   \n",
        "''')\n",
        "com_file.close()"
      ],
      "metadata": {
        "id": "1I_yFr07NL3V"
      },
      "execution_count": null,
      "outputs": []
    },
    {
      "cell_type": "markdown",
      "source": [
        "###Run bash"
      ],
      "metadata": {
        "id": "4t_tmb9ezESw"
      }
    },
    {
      "cell_type": "code",
      "source": [
        "#@title Run bash\n",
        "!sh 1.sh"
      ],
      "metadata": {
        "id": "CgwZcaztNUtl",
        "colab": {
          "base_uri": "https://localhost:8080/"
        },
        "outputId": "22d155bf-dffd-44e6-84c4-146289b78b85"
      },
      "execution_count": null,
      "outputs": [
        {
          "output_type": "stream",
          "name": "stdout",
          "text": [
            "\n",
            "gzip: DCAAMO.xab.sdf.gz: unexpected end of file\n",
            "\n",
            "gzip: DCAARN.xab.sdf.gz: unexpected end of file\n",
            "\n",
            "gzip: DCAARN.xac.sdf.gz: unexpected end of file\n",
            "\n",
            "gzip: DCAARN.xad.sdf.gz: unexpected end of file\n",
            "\n",
            "gzip: DCAARN.xae.sdf.gz: unexpected end of file\n",
            "\n",
            "gzip: DCAARO.xab.sdf.gz: unexpected end of file\n",
            "\n",
            "gzip: EFAARN.xab.sdf.gz: unexpected end of file\n",
            "\n",
            "gzip: EFBAMP.xaa.sdf.gz: unexpected end of file\n",
            "mv: cannot stat '*.sdf': No such file or directory\n",
            "\n",
            "gzip: EGAARN.xab.sdf.gz: unexpected end of file\n",
            "\n",
            "gzip: EGBAMP.xaa.sdf.gz: unexpected end of file\n",
            "mv: cannot stat '*.sdf': No such file or directory\n",
            "\n",
            "gzip: EGEAML.xaa.sdf.gz: unexpected end of file\n",
            "mv: cannot stat '*.sdf': No such file or directory\n",
            "1.sh: 9: cd: can't cd to */\n",
            "gzip: *.gz: No such file or directory\n",
            "mv: cannot stat '*.sdf': No such file or directory\n",
            "cat: '*.sdf': No such file or directory\n"
          ]
        }
      ]
    }
  ]
}